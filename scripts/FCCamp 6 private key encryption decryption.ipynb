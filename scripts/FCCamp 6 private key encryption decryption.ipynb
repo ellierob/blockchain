{
 "cells": [
  {
   "cell_type": "code",
   "execution_count": null,
   "metadata": {
    "vscode": {
     "languageId": "shellscript"
    }
   },
   "outputs": [],
   "source": [
    "!GANACHE_PRIVATE_KEY=\"0x3a8aab08724c8368d09e7b0e758622931455b96d56e5c81e3bbd7c1811324a7e\""
   ]
  },
  {
   "cell_type": "code",
   "execution_count": null,
   "metadata": {
    "vscode": {
     "languageId": "shellscript"
    }
   },
   "outputs": [],
   "source": [
    "!export CODEC_PASS=\"password\" "
   ]
  },
  {
   "cell_type": "code",
   "execution_count": null,
   "metadata": {
    "vscode": {
     "languageId": "javascript"
    }
   },
   "outputs": [],
   "source": [
    "%%script node\n",
    "\n",
    "const { ethers } = require(\"hardhat\")\n",
    "const fs = require(\"fs-extra\")\n",
    "require(\"dotenv\").config()\n",
    "\n",
    "async function main() {\n",
    "    const wallet = new ethers.Wallet(process.env.GANACHE_PRIVATE_KEY)\n",
    "    const encryptedJsonKey = await wallet.encrypt(\n",
    "        process.env.CODEC_PASS,\n",
    "        process.env.GANACHE_PRIVATE_KEY\n",
    "    )\n",
    "    console.log(encryptedJsonKey)\n",
    "    fs.writeFileSync(\"./.encryptedKey.json\", encryptedJsonKey)\n",
    "}\n",
    "\n",
    "main()\n",
    "    .then(() => process.exit(0))\n",
    "    .catch((error) => {\n",
    "        console.error(error)\n",
    "        process.exit(1)\n",
    "    })"
   ]
  },
  {
   "cell_type": "code",
   "execution_count": null,
   "metadata": {
    "vscode": {
     "languageId": "javascript"
    }
   },
   "outputs": [],
   "source": [
    "%%script node\n",
    "\n",
    "const ethers = require(\"ethers\")\n",
    "const fs = require(\"fs-extra\")\n",
    "require(\"dotenv\").config()\n",
    "\n",
    "async function main() {\n",
    "    const encryptedJson = fs.readFileSync(\n",
    "        \"./.encryptedKey.json\", \"utf-8\"\n",
    "    );\n",
    "\n",
    "\n",
    "    let wallet = new ethers.Wallet.fromEncryptedJsonSync(\n",
    "        encryptedJson,\n",
    "        proces.env.CODEC_PASS\n",
    "    )\n",
    "\n",
    "    wallet = await wallet.connect(provider);\n",
    "}\n",
    "\n",
    "main()\n",
    "    .then(() => process.exit(0))\n",
    "    .catch((error) => {\n",
    "        console.error(error)\n",
    "        process.exit(1)\n",
    "    })"
   ]
  },
  {
   "cell_type": "code",
   "execution_count": null,
   "metadata": {
    "vscode": {
     "languageId": "shellscript"
    }
   },
   "outputs": [],
   "source": [
    "!history -c"
   ]
  }
 ],
 "metadata": {
  "kernelspec": {
   "display_name": "Python 3",
   "language": "python",
   "name": "python3"
  },
  "language_info": {
   "name": "python",
   "version": "3.10.8 (main, Nov  1 2022, 14:18:21) [GCC 12.2.0]"
  },
  "orig_nbformat": 4,
  "vscode": {
   "interpreter": {
    "hash": "e7370f93d1d0cde622a1f8e1c04877d8463912d04d973331ad4851f04de6915a"
   }
  }
 },
 "nbformat": 4,
 "nbformat_minor": 2
}
