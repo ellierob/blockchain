{
 "cells": [
  {
   "cell_type": "markdown",
   "metadata": {},
   "source": [
    "# bitcoin node"
   ]
  },
  {
   "cell_type": "code",
   "execution_count": 4,
   "metadata": {
    "vscode": {
     "languageId": "shellscript"
    }
   },
   "outputs": [],
   "source": [
    "!mkdir -p /mnt/d/WSL/sln/blockchain/blockchain_home\n",
    "!ln -s /mnt/d/WSL/sln/blockchain/blockchain_home/ ~/blockchain_home\n",
    "!mkdir -p /mnt/d/WSL/blockchain/.bitcoin\n",
    "!ln -s /mnt/d/WSL/sln/blockchain/.bitcoin ~/.bitcoin\n",
    "!mkdir -p /mnt/d/WSL/sln/home/bin \n",
    "!ln -s /mnt/d/WSL/sln/home/bin ~/bin"
   ]
  },
  {
   "cell_type": "code",
   "execution_count": 5,
   "metadata": {
    "vscode": {
     "languageId": "shellscript"
    }
   },
   "outputs": [
    {
     "name": "stdout",
     "output_type": "stream",
     "text": [
      "lrwxrwxrwx 1 gnostic gnostic 22 Nov 16 03:53 /home/gnostic/blockchain_home -> /mnt/d/blockchain_home\n"
     ]
    }
   ],
   "source": [
    "!ls -la ~/blockchain_home"
   ]
  },
  {
   "cell_type": "code",
   "execution_count": null,
   "metadata": {
    "vscode": {
     "languageId": "shellscript"
    }
   },
   "outputs": [],
   "source": [
    "!wget -P ~/blockchain_home \\\n",
    "     https://bitcoincore.org/bin/bitcoin-core-24.0.1/bitcoin-24.0.1-x86_64-linux-gnu.tar.gz"
   ]
  },
  {
   "cell_type": "code",
   "execution_count": null,
   "metadata": {
    "vscode": {
     "languageId": "shellscript"
    }
   },
   "outputs": [],
   "source": [
    "!tar xvf ~/blockchain_home/bitcoin-24.0.1-x86_64-linux-gnu.tar.gz -C ~/blockchain_home/"
   ]
  },
  {
   "cell_type": "code",
   "execution_count": null,
   "metadata": {
    "vscode": {
     "languageId": "shellscript"
    }
   },
   "outputs": [],
   "source": [
    "!cd ~/blockchain_home/bitcoin-24.0.1"
   ]
  },
  {
   "cell_type": "code",
   "execution_count": null,
   "metadata": {
    "vscode": {
     "languageId": "shellscript"
    }
   },
   "outputs": [],
   "source": [
    "!echo '\\n\\nexport PATH=\"$HOME/bitcoin-24.0.1/bin:$PATH\"\\n\\n' >> ~/.vars"
   ]
  },
  {
   "cell_type": "code",
   "execution_count": null,
   "metadata": {
    "vscode": {
     "languageId": "shellscript"
    }
   },
   "outputs": [],
   "source": [
    "!echo '\\nserver=1\\ndaemon=1\\nzmqpubrawblock=tcp://127.0.0.1:28332\\nzmqpubrawtx=tcp://127.0.0.1:28333\\n' \\\n",
    "    >> ~/.bitcoin/bitcoin.conf"
   ]
  },
  {
   "cell_type": "markdown",
   "metadata": {},
   "source": [
    "## start"
   ]
  },
  {
   "cell_type": "code",
   "execution_count": null,
   "metadata": {
    "vscode": {
     "languageId": "shellscript"
    }
   },
   "outputs": [],
   "source": [
    "!bitcoind"
   ]
  },
  {
   "cell_type": "code",
   "execution_count": null,
   "metadata": {
    "vscode": {
     "languageId": "shellscript"
    }
   },
   "outputs": [],
   "source": [
    "!tail -f $HOME/.bitcoin/debug.log"
   ]
  },
  {
   "cell_type": "markdown",
   "metadata": {},
   "source": [
    "# lightning node"
   ]
  },
  {
   "cell_type": "code",
   "execution_count": null,
   "metadata": {
    "vscode": {
     "languageId": "shellscript"
    }
   },
   "outputs": [],
   "source": [
    "!wget -C \\~/blockchain_home \\\n",
    "    https://github.com/lightningnetwork/lnd/releases/download/v0.16.0-beta/lnd-linux-amd64-v0.16.0-beta.tar.gz"
   ]
  },
  {
   "cell_type": "code",
   "execution_count": null,
   "metadata": {
    "vscode": {
     "languageId": "shellscript"
    }
   },
   "outputs": [],
   "source": [
    "!tar xvf ~/blockchain_home/lnd-linux-amd64-v0.16.0-beta.tar.gz -C ~/blockchain_home/"
   ]
  },
  {
   "cell_type": "code",
   "execution_count": null,
   "metadata": {
    "vscode": {
     "languageId": "shellscript"
    }
   },
   "outputs": [],
   "source": [
    "!mv -i ~/blockchain_home/lnd* ~/bin"
   ]
  },
  {
   "cell_type": "code",
   "execution_count": null,
   "metadata": {
    "vscode": {
     "languageId": "shellscript"
    }
   },
   "outputs": [],
   "source": [
    "!echo '\\n\\nexport PATH=\"$HOME/bin:$PATH\"\\n\\n' >> ~/.vars"
   ]
  },
  {
   "cell_type": "code",
   "execution_count": null,
   "metadata": {
    "vscode": {
     "languageId": "shellscript"
    }
   },
   "outputs": [],
   "source": [
    "!mkdir -p /mnt/d/WSL/sln/blockchain/.lnd\n",
    "!ln -s /mnt/d/WSL/sln/blockchain/.lnd ~/.lnd "
   ]
  },
  {
   "cell_type": "code",
   "execution_count": null,
   "metadata": {
    "vscode": {
     "languageId": "shellscript"
    }
   },
   "outputs": [],
   "source": [
    "!echo \"\\n\\n[Application Options]\\ndebuglevel=info\\nmaxpendingchannels=10\\nalias=$LnNodeAlias\\ncolor=#68F442\\nlisten=localhost\\n\\n[Bitcoin]\\nbitcoin.active=true\\nbitcoin.mainnet=true\\nbitcoin.node=bitcoind\\n\\n\" \\\n",
    "    >> ~/.lnd/lnd.conf"
   ]
  },
  {
   "cell_type": "markdown",
   "metadata": {},
   "source": [
    "## start"
   ]
  },
  {
   "cell_type": "code",
   "execution_count": null,
   "metadata": {
    "vscode": {
     "languageId": "shellscript"
    }
   },
   "outputs": [],
   "source": [
    "!lnd"
   ]
  },
  {
   "cell_type": "markdown",
   "metadata": {},
   "source": [
    "### create wallet"
   ]
  },
  {
   "cell_type": "code",
   "execution_count": null,
   "metadata": {
    "vscode": {
     "languageId": "shellscript"
    }
   },
   "outputs": [],
   "source": [
    "!lncli create"
   ]
  }
 ],
 "metadata": {
  "kernelspec": {
   "display_name": "torchCond",
   "language": "python",
   "name": "python3"
  },
  "language_info": {
   "codemirror_mode": {
    "name": "ipython",
    "version": 3
   },
   "file_extension": ".py",
   "mimetype": "text/x-python",
   "name": "python",
   "nbconvert_exporter": "python",
   "pygments_lexer": "ipython3",
   "version": "3.10.4"
  }
 },
 "nbformat": 4,
 "nbformat_minor": 2
}
