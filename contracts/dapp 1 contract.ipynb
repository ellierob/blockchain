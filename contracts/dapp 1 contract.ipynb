{
 "cells": [
  {
   "attachments": {},
   "cell_type": "markdown",
   "metadata": {},
   "source": [
    "# Contracts\n",
    "* contracts have public key addresses like wallets\n",
    "* * which they get when they are deployed first\n",
    "* * and which is used whenever a method/function on the contract is called by other contracts or wallets\n",
    "* deploying and calling a contract make transactions and hashes on blockchain\n",
    "* * except view and pure functions\n",
    "* * * view functions may have execution costs, but no transaction cost or gas\n",
    "* * * view or pure functions may cost gas when called inside a modifying function"
   ]
  },
  {
   "cell_type": "raw",
   "metadata": {},
   "source": [
    "enum Statuses {vacant, occupied};\n",
    "    Statuses public currStat;"
   ]
  }
 ],
 "metadata": {
  "kernelspec": {
   "display_name": "Python 3",
   "language": "python",
   "name": "python3"
  },
  "language_info": {
   "name": "python",
   "version": "3.10.8 (main, Nov  1 2022, 14:18:21) [GCC 12.2.0]"
  },
  "orig_nbformat": 4,
  "vscode": {
   "interpreter": {
    "hash": "e7370f93d1d0cde622a1f8e1c04877d8463912d04d973331ad4851f04de6915a"
   }
  }
 },
 "nbformat": 4,
 "nbformat_minor": 2
}
