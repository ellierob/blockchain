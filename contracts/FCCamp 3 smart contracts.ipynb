{
 "cells": [
  {
   "cell_type": "markdown",
   "metadata": {},
   "source": [
    "# Contracts\n",
    "* contracts have public key addresses like wallets\n",
    "* * which they get when they are deployed first\n",
    "* * and which is used whenever a method/function on the contract is called by other contracts or wallets\n",
    "* deploying and calling a contract make transactions and hashes on blockchain\n",
    "* * except view and pure functions\n",
    "* * * view functions may have execution costs, but no transaction cost or gas\n",
    "* * * view or pure functions may cost gas when called inside a modifying function"
   ]
  },
  {
   "cell_type": "markdown",
   "metadata": {},
   "source": [
    "## contract fund\n",
    "* contracts, like wallet addresses can store funds"
   ]
  },
  {
   "cell_type": "markdown",
   "metadata": {},
   "source": [
    "## contract composability\n",
    "when contracts deploy and access other contracts"
   ]
  },
  {
   "attachments": {},
   "cell_type": "markdown",
   "metadata": {},
   "source": [
    "## EVM\n",
    "sol compiles down to EVM\n",
    "\n",
    "the EVM? is deployed on EVM compatible blockchains"
   ]
  },
  {
   "cell_type": "markdown",
   "metadata": {},
   "source": [
    "track solidity [contract](https://rinkeby.etherscan.io/address/0xc2ad3a23778ef378048a45ad6f3791101c386885) deployed on rinkeby testnet blockchain in etherscan"
   ]
  },
  {
   "attachments": {},
   "cell_type": "markdown",
   "metadata": {},
   "source": [
    "## chainlink oracle:\n",
    "\n",
    "imports from [interface](https://github.com/smartcontractkit/chainlink/blob/develop/contracts/src/v0.6/interfaces/AggregatorV3Interface.sol) from chainlink npm package\n",
    "\n",
    "get [price feed api](https://docs.chain.link/docs/get-the-latest-price/)\n",
    "\n",
    "[faucet list](https://docs.chain.link/docs/link-token-contracts/)"
   ]
  },
  {
   "cell_type": "markdown",
   "metadata": {},
   "source": [
    "fundme [contract](https://rinkeby.etherscan.io/address/0x204267bfa7327ff6f485dbb73b113d3b92d84b40) on etherscan"
   ]
  }
 ],
 "metadata": {
  "kernelspec": {
   "display_name": "Python 3",
   "language": "python",
   "name": "python3"
  },
  "language_info": {
   "name": "python",
   "version": "3.10.8 (main, Nov  1 2022, 14:18:21) [GCC 12.2.0]"
  },
  "orig_nbformat": 4,
  "vscode": {
   "interpreter": {
    "hash": "e7370f93d1d0cde622a1f8e1c04877d8463912d04d973331ad4851f04de6915a"
   }
  }
 },
 "nbformat": 4,
 "nbformat_minor": 2
}
