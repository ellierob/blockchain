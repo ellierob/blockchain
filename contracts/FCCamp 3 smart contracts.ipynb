{
 "cells": [
  {
   "cell_type": "markdown",
   "metadata": {},
   "source": [
    "sol compiles down to EVM\n",
    "\n",
    "the EVM? is deployed on EVM compatible blockchains"
   ]
  },
  {
   "cell_type": "markdown",
   "metadata": {},
   "source": [
    "track solidity [contract](https://rinkeby.etherscan.io/address/0xc2ad3a23778ef378048a45ad6f3791101c386885) deployed on rinkeby testnet blockchain in etherscan"
   ]
  },
  {
   "cell_type": "markdown",
   "metadata": {},
   "source": [
    "chainlink oracle:\n",
    "\n",
    "imports from [interface](https://github.com/smartcontractkit/chainlink/blob/develop/contracts/src/v0.6/interfaces/AggregatorV3Interface.sol) from chainlink npm package\n",
    "\n",
    "get [price feed api](https://docs.chain.link/docs/get-the-latest-price/)\n",
    "\n",
    "[faucet list](https://docs.chain.link/docs/link-token-contracts/)"
   ]
  },
  {
   "cell_type": "markdown",
   "metadata": {},
   "source": [
    "fundme [contract](https://rinkeby.etherscan.io/address/0x204267bfa7327ff6f485dbb73b113d3b92d84b40) on etherscan"
   ]
  }
 ],
 "metadata": {
  "language_info": {
   "name": "python"
  },
  "orig_nbformat": 4
 },
 "nbformat": 4,
 "nbformat_minor": 2
}
