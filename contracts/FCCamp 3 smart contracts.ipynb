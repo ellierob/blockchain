{
 "cells": [
  {
   "cell_type": "markdown",
   "metadata": {},
   "source": [
    "# Contracts\n",
    "* contracts have public key addresses like wallets\n",
    "* * which they get when they are deployed first\n",
    "* * and which is used whenever a method/function on the contract is called by other contracts or wallets\n",
    "* deploying and calling a contract make transactions and hashes on blockchain\n",
    "* * except view and pure functions\n",
    "* * * view functions may have execution costs, but no transaction cost or gas\n",
    "* * * view or pure functions may cost gas when called inside a modifying function"
   ]
  },
  {
   "cell_type": "markdown",
   "metadata": {},
   "source": [
    "## contract fund\n",
    "* contracts, like wallet addresses can store funds"
   ]
  },
  {
   "cell_type": "markdown",
   "metadata": {},
   "source": [
    "## contract composability\n",
    "when contracts deploy and access other contracts"
   ]
  },
  {
   "attachments": {},
   "cell_type": "markdown",
   "metadata": {},
   "source": [
    "## EVM\n",
    "sol compiles down to EVM\n",
    "\n",
    "the EVM? is deployed on EVM compatible blockchains"
   ]
  },
  {
   "attachments": {},
   "cell_type": "markdown",
   "metadata": {},
   "source": [
    "## faucet\n",
    "[chainlink faucet](https://docs.chain.link/docs/link-token-contracts/)\n",
    "\n",
    "goerli: https://goerlifaucet.com"
   ]
  },
  {
   "attachments": {},
   "cell_type": "markdown",
   "metadata": {},
   "source": [
    "## conversion 10^18 /1 quintillion\n",
    "* 1 quintillion = 1 kilo * 5th power of 1 kilo\n",
    "* 1 billion = 1 kilo * 2nd power of 1 kilo\n",
    "* 1 wei = 1 quitillionth of an ether\n",
    "* 1 gwei = 1 billion (giga) wei\n",
    "* 1 gwei = 1 billionth of ether"
   ]
  },
  {
   "attachments": {},
   "cell_type": "markdown",
   "metadata": {},
   "source": [
    "## etherscan\n",
    "goerli network fundme [contract](https://goerli.etherscan.io/address/0x87137b4B23a2C16144C7aC658429e38619665D93) on etherscan: 0x87137b4B23a2C16144C7aC658429e38619665D93\n",
    "\n",
    "goerli network storeFactory [contract](https://goerli.etherscan.io/address/0x3b2dd86a746bbfe6d9f7c218dc7c5423d45651a9): 0x3B2dD86A746bbFe6d9f7C218dC7c5423d45651A9\n",
    "\n",
    "goerli network stored [contract](https://goerli.etherscan.io/address/0x6d6586d5697ac469fea1d6250b9b26a6725b3b1b): 0x6D6586D5697aC469FEA1D6250B9b26A6725B3b1B\n",
    "\n",
    "track solidity [contract](https://rinkeby.etherscan.io/address/0xc2ad3a23778ef378048a45ad6f3791101c386885) deployed on rinkeby testnet blockchain in etherscan"
   ]
  },
  {
   "attachments": {},
   "cell_type": "markdown",
   "metadata": {},
   "source": [
    "## chainlink oracle:\n",
    "\n",
    "* 0xD4a33860578De61DBAbDc8BFdb98FD742fA7028e\n",
    "* eth to usd pricefeed address from\n",
    "* https://docs.chain.link/data-feeds/price-feeds/addresses/#Goerli%20Testnet\n",
    "\n",
    "imports from [interface](https://github.com/smartcontractkit/chainlink/blob/develop/contracts/src/v0.6/interfaces/AggregatorV3Interface.sol) from chainlink npm package\n",
    "\n",
    "get [price feed api](https://docs.chain.link/docs/get-the-latest-price/)"
   ]
  },
  {
   "attachments": {},
   "cell_type": "markdown",
   "metadata": {},
   "source": [
    "## coinbase oracle\n",
    "https://pro.coinmarketcap.com/account"
   ]
  }
 ],
 "metadata": {
  "kernelspec": {
   "display_name": "Python 3",
   "language": "python",
   "name": "python3"
  },
  "language_info": {
   "name": "python",
   "version": "3.10.8 (main, Nov  1 2022, 14:18:21) [GCC 12.2.0]"
  },
  "orig_nbformat": 4,
  "vscode": {
   "interpreter": {
    "hash": "e7370f93d1d0cde622a1f8e1c04877d8463912d04d973331ad4851f04de6915a"
   }
  }
 },
 "nbformat": 4,
 "nbformat_minor": 2
}
