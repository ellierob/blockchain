{
 "cells": [
  {
   "cell_type": "markdown",
   "metadata": {},
   "source": [
    "See all in [git repo](https://www.youtube.com/redirect?event=video_description&redir_token=QUFFLUhqbkE5M3FpbjRsT0syS1A4TVo5bzJEVnNlenJQUXxBQ3Jtc0ttal8yWjd4UFRFQW1ZMW9EN3pTa3hncjlKRW9jbXNud3ltZDFGR1cyTnRadmN6Znl4eU5vdDV4LVcwaHhfMndhbHowdTRFTTFIeG4wbjBBRkZoRUpiMzlfenFtaFAyX2NBdVFZUjJ0SmtTMkRPQnBxSQ&q=https%3A%2F%2Fgithub.com%2Fsmartcontractkit%2Ffull-blockchain-solidity-course-py&v=M576WGiDBdQ)\n",
    "\n",
    "test testnet in [Metamask](https://metamask.io/)\n",
    "\n",
    "get testnet token from [New Rinkeby Faucet](https://faucets.chain.link/rinkeby) or [here](https://rinkebyfaucet.com/)\n",
    "\n",
    "Check eth gas rate at [Eth gas station](https://ethgasstation.info/)\n",
    "\n",
    "Find your testsnet transactions in [Rinkeby testnet Etherscan](https://rinkeby.etherscan.io/)\n",
    "\n",
    "[Blockchain demo](https://andersbrownworth.com/blockchain/tokens)\n",
    "\n",
    "[public private key verification](https://andersbrownworth.com/blockchain/public-private-keys/signatures)"
   ]
  },
  {
   "cell_type": "markdown",
   "metadata": {},
   "source": [
    "bitcoin & old ethereum use Nakamoto consensus:\n",
    "* PoW \n",
    "* plus longest chain"
   ]
  },
  {
   "cell_type": "markdown",
   "metadata": {},
   "source": [
    "gas fee paid to nodes by transaction initiator\n",
    "\n",
    "block reward paid to miner? /nodes? by blockchain"
   ]
  },
  {
   "cell_type": "markdown",
   "metadata": {},
   "source": [
    "Blockchain Security:\n",
    "\n",
    "* Sybil attack\n",
    "* 51% attack"
   ]
  },
  {
   "cell_type": "markdown",
   "metadata": {},
   "source": [
    "Sharding:\n",
    "\n",
    "\n",
    "Rollup:"
   ]
  }
 ],
 "metadata": {
  "kernelspec": {
   "display_name": "Python 3",
   "language": "python",
   "name": "python3"
  },
  "language_info": {
   "name": "python",
   "version": "3.10.8 (main, Nov  1 2022, 14:18:21) [GCC 12.2.0]"
  },
  "orig_nbformat": 4,
  "vscode": {
   "interpreter": {
    "hash": "e7370f93d1d0cde622a1f8e1c04877d8463912d04d973331ad4851f04de6915a"
   }
  }
 },
 "nbformat": 4,
 "nbformat_minor": 2
}
