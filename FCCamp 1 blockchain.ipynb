{
 "cells": [
  {
   "cell_type": "markdown",
   "metadata": {},
   "source": [
    "See all in [git repo](https://www.youtube.com/redirect?event=video_description&redir_token=QUFFLUhqbkE5M3FpbjRsT0syS1A4TVo5bzJEVnNlenJQUXxBQ3Jtc0ttal8yWjd4UFRFQW1ZMW9EN3pTa3hncjlKRW9jbXNud3ltZDFGR1cyTnRadmN6Znl4eU5vdDV4LVcwaHhfMndhbHowdTRFTTFIeG4wbjBBRkZoRUpiMzlfenFtaFAyX2NBdVFZUjJ0SmtTMkRPQnBxSQ&q=https%3A%2F%2Fgithub.com%2Fsmartcontractkit%2Ffull-blockchain-solidity-course-py&v=M576WGiDBdQ)\n",
    "\n",
    "test testnet in [Metamask](https://metamask.io/)\n",
    "\n",
    "get testnet token from [New Rinkeby Faucet](https://faucets.chain.link/rinkeby) or [here](https://rinkebyfaucet.com/)\n",
    "\n",
    "Check eth gas rate at [Eth gas station](https://ethgasstation.info/)\n",
    "\n",
    "Find your testsnet transactions in [Rinkeby testnet Etherscan](https://rinkeby.etherscan.io/)\n",
    "\n",
    "[Blockchain demo](https://andersbrownworth.com/blockchain/tokens)\n",
    "\n",
    "[public private key verification](https://andersbrownworth.com/blockchain/public-private-keys/signatures)"
   ]
  },
  {
   "cell_type": "markdown",
   "metadata": {},
   "source": [
    "bitcoin & old ethereum use Nakamoto consensus:\n",
    "* PoW \n",
    "* plus longest chain"
   ]
  },
  {
   "cell_type": "markdown",
   "metadata": {},
   "source": [
    "gas fee paid to nodes by transaction initiator\n",
    "\n",
    "block reward paid to miner? /nodes? by blockchain"
   ]
  },
  {
   "cell_type": "markdown",
   "metadata": {},
   "source": [
    "Blockchain Security:\n",
    "\n",
    "* Sybil attack\n",
    "* 51% attack"
   ]
  },
  {
   "cell_type": "markdown",
   "metadata": {},
   "source": [
    "Sharding:\n",
    "\n",
    "\n",
    "Rollup:"
   ]
  }
 ],
 "metadata": {
  "language_info": {
   "name": "python"
  },
  "orig_nbformat": 4
 },
 "nbformat": 4,
 "nbformat_minor": 2
}
